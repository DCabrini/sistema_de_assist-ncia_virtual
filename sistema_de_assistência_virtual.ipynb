{
  "nbformat": 4,
  "nbformat_minor": 0,
  "metadata": {
    "colab": {
      "provenance": [],
      "authorship_tag": "ABX9TyNpt7uPFk8xYAdHxoVmjvTn",
      "include_colab_link": true
    },
    "kernelspec": {
      "name": "python3",
      "display_name": "Python 3"
    },
    "language_info": {
      "name": "python"
    }
  },
  "cells": [
    {
      "cell_type": "markdown",
      "metadata": {
        "id": "view-in-github",
        "colab_type": "text"
      },
      "source": [
        "<a href=\"https://colab.research.google.com/github/DCabrini/sistema_de_assist-ncia_virtual/blob/main/sistema_de_assist%C3%AAncia_virtual.ipynb\" target=\"_parent\"><img src=\"https://colab.research.google.com/assets/colab-badge.svg\" alt=\"Open In Colab\"/></a>"
      ]
    },
    {
      "cell_type": "code",
      "source": [
        "# Verificando se a GPU foi inicializada\n",
        "import tensorflow as tf\n",
        "devive_name = tf.test.gpu_device_name()\n",
        "print(devive_name)\n",
        "\n",
        "# Retorno esperado \"/device:GPU:0\""
      ],
      "metadata": {
        "colab": {
          "base_uri": "https://localhost:8080/"
        },
        "id": "fWjZNKRFd_pl",
        "outputId": "09980752-ce1d-4e43-b814-169964376988"
      },
      "execution_count": 1,
      "outputs": [
        {
          "output_type": "stream",
          "name": "stdout",
          "text": [
            "\n"
          ]
        }
      ]
    },
    {
      "cell_type": "code",
      "source": [
        "!pip install gTTS\n",
        "!pip install SpeechRecognition\n",
        "!pip install wikipedia\n",
        "!pip install geopy\n"
      ],
      "metadata": {
        "colab": {
          "base_uri": "https://localhost:8080/"
        },
        "id": "2y06M7bQd-je",
        "outputId": "cec3864e-ed64-42a4-faaa-6bfa30617d0c"
      },
      "execution_count": 2,
      "outputs": [
        {
          "output_type": "stream",
          "name": "stdout",
          "text": [
            "Collecting gTTS\n",
            "  Downloading gTTS-2.5.4-py3-none-any.whl.metadata (4.1 kB)\n",
            "Requirement already satisfied: requests<3,>=2.27 in /usr/local/lib/python3.11/dist-packages (from gTTS) (2.32.3)\n",
            "Requirement already satisfied: click<8.2,>=7.1 in /usr/local/lib/python3.11/dist-packages (from gTTS) (8.1.8)\n",
            "Requirement already satisfied: charset-normalizer<4,>=2 in /usr/local/lib/python3.11/dist-packages (from requests<3,>=2.27->gTTS) (3.4.1)\n",
            "Requirement already satisfied: idna<4,>=2.5 in /usr/local/lib/python3.11/dist-packages (from requests<3,>=2.27->gTTS) (3.10)\n",
            "Requirement already satisfied: urllib3<3,>=1.21.1 in /usr/local/lib/python3.11/dist-packages (from requests<3,>=2.27->gTTS) (2.3.0)\n",
            "Requirement already satisfied: certifi>=2017.4.17 in /usr/local/lib/python3.11/dist-packages (from requests<3,>=2.27->gTTS) (2025.1.31)\n",
            "Downloading gTTS-2.5.4-py3-none-any.whl (29 kB)\n",
            "Installing collected packages: gTTS\n",
            "Successfully installed gTTS-2.5.4\n",
            "Collecting SpeechRecognition\n",
            "  Downloading SpeechRecognition-3.14.1-py3-none-any.whl.metadata (31 kB)\n",
            "Requirement already satisfied: typing-extensions in /usr/local/lib/python3.11/dist-packages (from SpeechRecognition) (4.12.2)\n",
            "Downloading SpeechRecognition-3.14.1-py3-none-any.whl (32.9 MB)\n",
            "\u001b[2K   \u001b[90m━━━━━━━━━━━━━━━━━━━━━━━━━━━━━━━━━━━━━━━━\u001b[0m \u001b[32m32.9/32.9 MB\u001b[0m \u001b[31m24.8 MB/s\u001b[0m eta \u001b[36m0:00:00\u001b[0m\n",
            "\u001b[?25hInstalling collected packages: SpeechRecognition\n",
            "Successfully installed SpeechRecognition-3.14.1\n",
            "Collecting wikipedia\n",
            "  Downloading wikipedia-1.4.0.tar.gz (27 kB)\n",
            "  Preparing metadata (setup.py) ... \u001b[?25l\u001b[?25hdone\n",
            "Requirement already satisfied: beautifulsoup4 in /usr/local/lib/python3.11/dist-packages (from wikipedia) (4.13.3)\n",
            "Requirement already satisfied: requests<3.0.0,>=2.0.0 in /usr/local/lib/python3.11/dist-packages (from wikipedia) (2.32.3)\n",
            "Requirement already satisfied: charset-normalizer<4,>=2 in /usr/local/lib/python3.11/dist-packages (from requests<3.0.0,>=2.0.0->wikipedia) (3.4.1)\n",
            "Requirement already satisfied: idna<4,>=2.5 in /usr/local/lib/python3.11/dist-packages (from requests<3.0.0,>=2.0.0->wikipedia) (3.10)\n",
            "Requirement already satisfied: urllib3<3,>=1.21.1 in /usr/local/lib/python3.11/dist-packages (from requests<3.0.0,>=2.0.0->wikipedia) (2.3.0)\n",
            "Requirement already satisfied: certifi>=2017.4.17 in /usr/local/lib/python3.11/dist-packages (from requests<3.0.0,>=2.0.0->wikipedia) (2025.1.31)\n",
            "Requirement already satisfied: soupsieve>1.2 in /usr/local/lib/python3.11/dist-packages (from beautifulsoup4->wikipedia) (2.6)\n",
            "Requirement already satisfied: typing-extensions>=4.0.0 in /usr/local/lib/python3.11/dist-packages (from beautifulsoup4->wikipedia) (4.12.2)\n",
            "Building wheels for collected packages: wikipedia\n",
            "  Building wheel for wikipedia (setup.py) ... \u001b[?25l\u001b[?25hdone\n",
            "  Created wheel for wikipedia: filename=wikipedia-1.4.0-py3-none-any.whl size=11679 sha256=0599de8090a6394ad9ae4f0d56e6875979ee4e6c8d58bae51b78adf3f2f492a3\n",
            "  Stored in directory: /root/.cache/pip/wheels/8f/ab/cb/45ccc40522d3a1c41e1d2ad53b8f33a62f394011ec38cd71c6\n",
            "Successfully built wikipedia\n",
            "Installing collected packages: wikipedia\n",
            "Successfully installed wikipedia-1.4.0\n",
            "Requirement already satisfied: geopy in /usr/local/lib/python3.11/dist-packages (2.4.1)\n",
            "Requirement already satisfied: geographiclib<3,>=1.52 in /usr/local/lib/python3.11/dist-packages (from geopy) (2.0)\n"
          ]
        }
      ]
    },
    {
      "cell_type": "code",
      "source": [
        "from gtts import gTTS\n",
        "import os\n",
        "\n",
        "def texto_para_fala(texto):\n",
        "    tts = gTTS(text=texto, lang='pt')\n",
        "    tts.save(\"fala.mp3\")\n",
        "    os.system(\"mpg321 fala.mp3\")  # Reproduz o áudio\n"
      ],
      "metadata": {
        "id": "-fSQAHoieSSd"
      },
      "execution_count": 3,
      "outputs": []
    },
    {
      "cell_type": "code",
      "source": [
        "import speech_recognition as sr\n",
        "\n",
        "def fala_para_texto():\n",
        "    r = sr.Recognizer()\n",
        "    with sr.Microphone() as source:\n",
        "        print(\"Aguardando comando...\")\n",
        "        r.adjust_for_ambient_noise(source)\n",
        "        audio = r.listen(source)\n",
        "        try:\n",
        "            comando = r.recognize_google(audio, language='pt-BR')\n",
        "            print(\"Você disse: \" + comando)\n",
        "            return comando\n",
        "        except sr.UnknownValueError:\n",
        "            print(\"Não entendi, pode repetir?\")\n",
        "        except sr.RequestError:\n",
        "            print(\"Erro ao conectar com o serviço de reconhecimento de fala.\")\n"
      ],
      "metadata": {
        "id": "v-tfaaK1eTSw"
      },
      "execution_count": 4,
      "outputs": []
    },
    {
      "cell_type": "code",
      "source": [
        "import wikipedia\n",
        "\n",
        "def buscar_wikipedia(termo):\n",
        "    try:\n",
        "        resultado = wikipedia.summary(termo, sentences=1)\n",
        "        return resultado\n",
        "    except wikipedia.exceptions.DisambiguationError as e:\n",
        "        return \"O comando está ambíguo, por favor, refine sua busca.\"\n",
        "    except wikipedia.exceptions.HTTPTimeoutError:\n",
        "        return \"Erro de conexão com o Wikipedia.\"\n"
      ],
      "metadata": {
        "id": "5xFWbfVxeTY2"
      },
      "execution_count": 5,
      "outputs": []
    },
    {
      "cell_type": "code",
      "source": [
        "from geopy.geocoders import Nominatim\n",
        "\n",
        "def localizar_farmacia(endereco_atual):\n",
        "    geolocator = Nominatim(user_agent=\"assistente_virtual\")\n",
        "    location = geolocator.geocode(endereco_atual)\n",
        "    print(f\"Latitude e Longitude de {endereco_atual}: {location.latitude}, {location.longitude}\")\n",
        "    # Aqui você poderia integrar com uma API de mapas para buscar farmácias\n"
      ],
      "metadata": {
        "id": "85gsMxf5d-vA"
      },
      "execution_count": 6,
      "outputs": []
    },
    {
      "cell_type": "code",
      "source": [
        "def acionar_comando():\n",
        "    comando = fala_para_texto()\n",
        "    if comando:\n",
        "        if \"wikipedia\" in comando:\n",
        "            termo = comando.replace(\"pesquisar no wikipedia\", \"\").strip()\n",
        "            resultado = buscar_wikipedia(termo)\n",
        "            texto_para_fala(resultado)\n",
        "        elif \"youtube\" in comando:\n",
        "            import webbrowser\n",
        "            webbrowser.open(\"https://www.youtube.com\")\n",
        "            texto_para_fala(\"Abrindo o YouTube.\")\n",
        "        elif \"farmácia\" in comando:\n",
        "            endereco = \"sua localização atual\"  # Aqui você pode adicionar o código de geolocalização\n",
        "            localizar_farmacia(endereco)\n",
        "            texto_para_fala(\"Localizando farmácia mais próxima.\")\n",
        "        else:\n",
        "            texto_para_fala(\"Comando não reconhecido. Tente novamente.\")\n"
      ],
      "metadata": {
        "id": "WU_o1Z5PecTP"
      },
      "execution_count": 7,
      "outputs": []
    }
  ]
}